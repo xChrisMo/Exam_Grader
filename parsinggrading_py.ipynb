{
  "nbformat": 4,
  "nbformat_minor": 0,
  "metadata": {
    "colab": {
      "provenance": [],
      "authorship_tag": "ABX9TyMCL4H7JLwj/2WlSDD2CNti"
    },
    "kernelspec": {
      "name": "python3",
      "display_name": "Python 3"
    },
    "language_info": {
      "name": "python"
    }
  },
  "cells": [
    {
      "cell_type": "code",
      "source": [
        "!pip uninstall fitz\n",
        "!pip install --upgrade --force-reinstall pymupdf\n",
        "!pip install fitz"
      ],
      "metadata": {
        "colab": {
          "base_uri": "https://localhost:8080/"
        },
        "id": "ijeolteGsIZ7",
        "outputId": "dceaaede-93af-4193-bf41-d12fd679e99a"
      },
      "execution_count": null,
      "outputs": [
        {
          "output_type": "stream",
          "name": "stdout",
          "text": [
            "Found existing installation: fitz 0.0.1.dev2\n",
            "Uninstalling fitz-0.0.1.dev2:\n",
            "  Would remove:\n",
            "    /usr/local/bin/fitz\n",
            "    /usr/local/bin/log2design.py\n",
            "    /usr/local/lib/python3.11/dist-packages/.DS_Store\n",
            "    /usr/local/lib/python3.11/dist-packages/fitz-0.0.1.dev2.dist-info/*\n",
            "    /usr/local/lib/python3.11/dist-packages/fitz/*\n",
            "    /usr/local/lib/python3.11/dist-packages/scripts/*\n",
            "  Would not remove (might be manually added):\n",
            "    /usr/local/lib/python3.11/dist-packages/fitz/__main__.py\n",
            "    /usr/local/lib/python3.11/dist-packages/fitz/_fitz.cpython-311-x86_64-linux-gnu.so\n",
            "    /usr/local/lib/python3.11/dist-packages/fitz/fitz.py\n",
            "    /usr/local/lib/python3.11/dist-packages/fitz/utils.py\n",
            "    /usr/local/lib/python3.11/dist-packages/scripts/readme-gen/readme_gen.py\n",
            "Proceed (Y/n)? n\n",
            "Collecting pymupdf\n",
            "  Using cached pymupdf-1.25.5-cp39-abi3-manylinux2014_x86_64.manylinux_2_17_x86_64.whl.metadata (3.4 kB)\n",
            "Using cached pymupdf-1.25.5-cp39-abi3-manylinux2014_x86_64.manylinux_2_17_x86_64.whl (20.0 MB)\n",
            "Installing collected packages: pymupdf\n",
            "  Attempting uninstall: pymupdf\n",
            "    Found existing installation: PyMuPDF 1.22.3\n",
            "    Uninstalling PyMuPDF-1.22.3:\n",
            "      Successfully uninstalled PyMuPDF-1.22.3\n",
            "Successfully installed pymupdf-1.25.5\n",
            "Requirement already satisfied: fitz in /usr/local/lib/python3.11/dist-packages (0.0.1.dev2)\n",
            "Requirement already satisfied: configobj in /usr/local/lib/python3.11/dist-packages (from fitz) (5.0.9)\n",
            "Requirement already satisfied: configparser in /usr/local/lib/python3.11/dist-packages (from fitz) (7.2.0)\n",
            "Requirement already satisfied: httplib2 in /usr/local/lib/python3.11/dist-packages (from fitz) (0.22.0)\n",
            "Requirement already satisfied: nibabel in /usr/local/lib/python3.11/dist-packages (from fitz) (5.3.2)\n",
            "Requirement already satisfied: nipype in /usr/local/lib/python3.11/dist-packages (from fitz) (1.10.0)\n",
            "Requirement already satisfied: numpy in /usr/local/lib/python3.11/dist-packages (from fitz) (2.0.2)\n",
            "Requirement already satisfied: pandas in /usr/local/lib/python3.11/dist-packages (from fitz) (2.2.2)\n",
            "Requirement already satisfied: pyxnat in /usr/local/lib/python3.11/dist-packages (from fitz) (1.6.3)\n",
            "Requirement already satisfied: scipy in /usr/local/lib/python3.11/dist-packages (from fitz) (1.14.1)\n",
            "Requirement already satisfied: pyparsing!=3.0.0,!=3.0.1,!=3.0.2,!=3.0.3,<4,>=2.4.2 in /usr/local/lib/python3.11/dist-packages (from httplib2->fitz) (3.2.3)\n",
            "Requirement already satisfied: importlib-resources>=5.12 in /usr/local/lib/python3.11/dist-packages (from nibabel->fitz) (6.5.2)\n",
            "Requirement already satisfied: packaging>=20 in /usr/local/lib/python3.11/dist-packages (from nibabel->fitz) (24.2)\n",
            "Requirement already satisfied: typing-extensions>=4.6 in /usr/local/lib/python3.11/dist-packages (from nibabel->fitz) (4.13.1)\n",
            "Requirement already satisfied: click>=6.6.0 in /usr/local/lib/python3.11/dist-packages (from nipype->fitz) (8.1.8)\n",
            "Requirement already satisfied: networkx>=2.5 in /usr/local/lib/python3.11/dist-packages (from nipype->fitz) (3.4.2)\n",
            "Requirement already satisfied: prov>=1.5.2 in /usr/local/lib/python3.11/dist-packages (from nipype->fitz) (2.0.1)\n",
            "Requirement already satisfied: pydot>=1.2.3 in /usr/local/lib/python3.11/dist-packages (from nipype->fitz) (3.0.4)\n",
            "Requirement already satisfied: python-dateutil>=2.2 in /usr/local/lib/python3.11/dist-packages (from nipype->fitz) (2.8.2)\n",
            "Requirement already satisfied: rdflib>=5.0.0 in /usr/local/lib/python3.11/dist-packages (from nipype->fitz) (6.3.2)\n",
            "Requirement already satisfied: simplejson>=3.8.0 in /usr/local/lib/python3.11/dist-packages (from nipype->fitz) (3.20.1)\n",
            "Requirement already satisfied: traits>=6.2 in /usr/local/lib/python3.11/dist-packages (from nipype->fitz) (7.0.2)\n",
            "Requirement already satisfied: filelock>=3.0.0 in /usr/local/lib/python3.11/dist-packages (from nipype->fitz) (3.18.0)\n",
            "Requirement already satisfied: acres in /usr/local/lib/python3.11/dist-packages (from nipype->fitz) (0.3.0)\n",
            "Requirement already satisfied: etelemetry>=0.3.1 in /usr/local/lib/python3.11/dist-packages (from nipype->fitz) (0.3.1)\n",
            "Requirement already satisfied: looseversion!=1.2 in /usr/local/lib/python3.11/dist-packages (from nipype->fitz) (1.3.0)\n",
            "Requirement already satisfied: puremagic in /usr/local/lib/python3.11/dist-packages (from nipype->fitz) (1.28)\n",
            "Requirement already satisfied: pytz>=2020.1 in /usr/local/lib/python3.11/dist-packages (from pandas->fitz) (2025.2)\n",
            "Requirement already satisfied: tzdata>=2022.7 in /usr/local/lib/python3.11/dist-packages (from pandas->fitz) (2025.2)\n",
            "Requirement already satisfied: lxml>=4.3 in /usr/local/lib/python3.11/dist-packages (from pyxnat->fitz) (5.3.1)\n",
            "Requirement already satisfied: requests>=2.20 in /usr/local/lib/python3.11/dist-packages (from pyxnat->fitz) (2.32.3)\n",
            "Requirement already satisfied: pathlib>=1.0 in /usr/local/lib/python3.11/dist-packages (from pyxnat->fitz) (1.0.1)\n",
            "Requirement already satisfied: ci-info>=0.2 in /usr/local/lib/python3.11/dist-packages (from etelemetry>=0.3.1->nipype->fitz) (0.3.0)\n",
            "Requirement already satisfied: six>=1.5 in /usr/local/lib/python3.11/dist-packages (from python-dateutil>=2.2->nipype->fitz) (1.17.0)\n",
            "Requirement already satisfied: isodate<0.7.0,>=0.6.0 in /usr/local/lib/python3.11/dist-packages (from rdflib>=5.0.0->nipype->fitz) (0.6.1)\n",
            "Requirement already satisfied: charset-normalizer<4,>=2 in /usr/local/lib/python3.11/dist-packages (from requests>=2.20->pyxnat->fitz) (3.4.1)\n",
            "Requirement already satisfied: idna<4,>=2.5 in /usr/local/lib/python3.11/dist-packages (from requests>=2.20->pyxnat->fitz) (3.10)\n",
            "Requirement already satisfied: urllib3<3,>=1.21.1 in /usr/local/lib/python3.11/dist-packages (from requests>=2.20->pyxnat->fitz) (2.3.0)\n",
            "Requirement already satisfied: certifi>=2017.4.17 in /usr/local/lib/python3.11/dist-packages (from requests>=2.20->pyxnat->fitz) (2025.1.31)\n"
          ]
        }
      ]
    },
    {
      "cell_type": "code",
      "source": [
        "# Install a specific stable version\n",
        "!pip install PyMuPDF==1.22.3  #latest stable version"
      ],
      "metadata": {
        "colab": {
          "base_uri": "https://localhost:8080/",
          "height": 279
        },
        "id": "Ck4SjUITBSwA",
        "outputId": "6595f899-1c29-4bce-b64c-b361ff14765b"
      },
      "execution_count": null,
      "outputs": [
        {
          "output_type": "stream",
          "name": "stdout",
          "text": [
            "Collecting PyMuPDF==1.22.3\n",
            "  Using cached PyMuPDF-1.22.3-cp311-cp311-manylinux_2_17_x86_64.manylinux2014_x86_64.whl.metadata (8.3 kB)\n",
            "Using cached PyMuPDF-1.22.3-cp311-cp311-manylinux_2_17_x86_64.manylinux2014_x86_64.whl (14.2 MB)\n",
            "Installing collected packages: PyMuPDF\n",
            "  Attempting uninstall: PyMuPDF\n",
            "    Found existing installation: PyMuPDF 1.25.5\n",
            "    Uninstalling PyMuPDF-1.25.5:\n",
            "      Successfully uninstalled PyMuPDF-1.25.5\n",
            "Successfully installed PyMuPDF-1.22.3\n"
          ]
        },
        {
          "output_type": "display_data",
          "data": {
            "application/vnd.colab-display-data+json": {
              "pip_warning": {
                "packages": [
                  "fitz"
                ]
              },
              "id": "26e3c66aab064c22acb3dab1e6b1f6ac"
            }
          },
          "metadata": {}
        }
      ]
    },
    {
      "cell_type": "code",
      "source": [
        "import fitz\n",
        "import re"
      ],
      "metadata": {
        "id": "FAP1m9VzsAQZ"
      },
      "execution_count": null,
      "outputs": []
    },
    {
      "cell_type": "code",
      "source": [
        "#from google.colab import files\n",
        "#uploaded = files.upload()  # uploading the marking guide as PDF"
      ],
      "metadata": {
        "id": "OEwPe-mksmql"
      },
      "execution_count": null,
      "outputs": []
    },
    {
      "cell_type": "code",
      "source": [
        "!gdown https://drive.google.com/uc?id=19tg3MMFbbww-W6yh0AWT4IzxAgJmHMoY"
      ],
      "metadata": {
        "colab": {
          "base_uri": "https://localhost:8080/"
        },
        "id": "iFlQ7TCbHPfG",
        "outputId": "8921f45f-ed5c-47d2-a5bc-0af6b113a2a0"
      },
      "execution_count": null,
      "outputs": [
        {
          "output_type": "stream",
          "name": "stdout",
          "text": [
            "Downloading...\n",
            "From: https://drive.google.com/uc?id=19tg3MMFbbww-W6yh0AWT4IzxAgJmHMoY\n",
            "To: /content/SSG_326_exam.pdf\n",
            "\r  0% 0.00/50.0k [00:00<?, ?B/s]\r100% 50.0k/50.0k [00:00<00:00, 49.9MB/s]\n"
          ]
        }
      ]
    },
    {
      "cell_type": "code",
      "source": [
        "def extract_guide_text(pdf_path):\n",
        "    \"\"\"Extract all text from a PDF file using PyMuPDF.\"\"\"\n",
        "    doc = fitz.open(pdf_path)                        # Open the PDF document\n",
        "    full_text = \"\"\n",
        "    for page in doc:\n",
        "        full_text += page.get_text()                 # Get text from each page\n",
        "    return full_text"
      ],
      "metadata": {
        "id": "SqTrJlJVrv7v"
      },
      "execution_count": null,
      "outputs": []
    },
    {
      "cell_type": "code",
      "source": [
        "# Parse the marking guide\n",
        "def parse_marking_guide(pdf_path):\n",
        "    \"\"\"Parse the marking guide PDF into a rubric dictionary.\"\"\"\n",
        "    text = extract_guide_text(pdf_path)\n",
        "\n",
        "    # pattern to match \"QUESTION ONE\", \"QUESTION 1\", etc.\n",
        "    pattern = r'QUESTION\\s+(?:[A-Z]+|\\d+)'  # regex for \"QUESTION <number/word>, like QUESTiION 1, QUESTION ONE, matches both cases from our markign guide!\"\n",
        "\n",
        "    # Use lookahead to keep the matched keyword as a delimiter\n",
        "    segments = re.split(f'(?={pattern})', text)[1:]  # Drop anything before first question\n",
        "\n",
        "    rubric = {}\n",
        "    for idx, segment in enumerate(segments, start=1):\n",
        "        content = segment.strip()\n",
        "        rubric[f\"Q{idx}\"] = {\n",
        "            \"model_answer\": content,\n",
        "            \"max_points\": None  # default to None unless found\n",
        "        }\n",
        "\n",
        "        # Try to extract points from the content, e.g., \"25 marks\"\n",
        "        match = re.search(r'(\\d+)\\s*marks?', content, flags=re.IGNORECASE)\n",
        "        if match:\n",
        "            rubric[f\"Q{idx}\"][\"max_points\"] = int(match.group(1))\n",
        "\n",
        "    return rubric\n",
        "\n",
        "# Run and print\n",
        "guide_rubric = parse_marking_guide(\"/content/SSG_326_exam.pdf\")"
      ],
      "metadata": {
        "id": "lmptMOYCryBA"
      },
      "execution_count": null,
      "outputs": []
    },
    {
      "cell_type": "code",
      "source": [
        "print(guide_rubric)"
      ],
      "metadata": {
        "id": "r8wF4HXhD_Te",
        "colab": {
          "base_uri": "https://localhost:8080/"
        },
        "outputId": "f2048b5e-47a0-4057-9208-491b980b3631"
      },
      "execution_count": null,
      "outputs": [
        {
          "output_type": "stream",
          "name": "stdout",
          "text": [
            "{'Q1': {'model_answer': 'QUESTION ONE \\nManufacturing processes for engineering materials addresses advances in all \\naspects of manufacturing, presenting comprehensive, up-to-date, and balanced \\ncoverage of the fundamentals of materials and processes. With illustrative \\ndiagram(s), discuss FIVE manufacturing processes as applicable to materials \\nengineering. The discussion should encompass merits, demerits and applications. \\n(25 marks)', 'max_points': 25}, 'Q2': {'model_answer': 'QUESTION TWO \\n(a) List and discuss FOUR major groups of engineering materials. \\n(b) Engineering materials properties can be classified into three broad \\ncategories. (i) List these THREE properties. (ii) Identify at least THREE \\nproperties under each category in (i) and EXPATIATE accordingly. (25 marks)', 'max_points': 25}, 'Q3': {'model_answer': 'QUESTION THREE \\n(a) Give a succinct definition of metallic corrosion. Material corrosion can be \\nimpacted by thermodynamics as well as kinetic effects. Provide adequate \\nexplanation for each (use representative equations and diagrams as \\nappropriate). \\n(b)  List and explain FIVE forms of metallic corrosion. (25 marks)', 'max_points': 25}, 'Q4': {'model_answer': 'QUESTION FOUR \\n(a) Discuss THREE motivations for engineering materials selection. There are \\ntwo basic situations that necessitate materials selection, enumerate and \\ngive brief explanation on these two situations. \\n(b) Cost is an integral aspect of materials selection. Provide a cost analysis tree \\nplot. In the diagram, show the distribution of the total cost to the consumer. \\n(25 marks)', 'max_points': 25}, 'Q5': {'model_answer': 'QUESTION FIVE \\n(a) With illustration, discuss FIVE roles of genetic engineering in the sourcing of \\nnew engineering materials. \\n(b) There have been several advancements in materials engineering over the \\npast years. Write on the current developments in engineering materials that \\nyou know, focusing on the research aspects. (25 marks)', 'max_points': 25}}\n"
          ]
        }
      ]
    },
    {
      "cell_type": "code",
      "source": [
        "{'Q1': {'model_answer': 'QUESTION ONE \\nManufacturing processes for engineering materials addresses advances in all \\naspects of manufacturing, presenting comprehensive, up-to-date, and balanced \\ncoverage of the fundamentals of materials and processes. With illustrative \\ndiagram(s), discuss FIVE manufacturing processes as applicable to materials \\nengineering. The discussion should encompass merits, demerits and applications. \\n(25 marks)', 'max_points': 25},\n",
        " 'Q2': {'model_answer': 'QUESTION TWO \\n(a) List and discuss FOUR major groups of engineering materials. \\n(b) Engineering materials properties can be classified into three broad \\ncategories. (i) List these THREE properties. (ii) Identify at least THREE \\nproperties under each category in (i) and EXPATIATE accordingly. (25 marks)', 'max_points': 25},\n",
        " 'Q3': {'model_answer': 'QUESTION THREE \\n(a) Give a succinct definition of metallic corrosion. Material corrosion can be \\nimpacted by thermodynamics as well as kinetic effects. Provide adequate \\nexplanation for each (use representative equations and diagrams as \\nappropriate). \\n(b)  List and explain FIVE forms of metallic corrosion. (25 marks)', 'max_points': 25},\n",
        " 'Q4': {'model_answer': 'QUESTION FOUR \\n(a) Discuss THREE motivations for engineering materials selection. There are \\ntwo basic situations that necessitate materials selection, enumerate and \\ngive brief explanation on these two situations. \\n(b) Cost is an integral aspect of materials selection. Provide a cost analysis tree \\nplot. In the diagram, show the distribution of the total cost to the consumer. \\n(25 marks)', 'max_points': 25},\n",
        " 'Q5': {'model_answer': 'QUESTION FIVE \\n(a) With illustration, discuss FIVE roles of genetic engineering in the sourcing of \\nnew engineering materials. \\n(b) There have been several advancements in materials engineering over the \\npast years. Write on the current developments in engineering materials that \\nyou know, focusing on the research aspects. (25 marks)', 'max_points': 25}}\n",
        "\n",
        "[ ]\n"
      ],
      "metadata": {
        "colab": {
          "base_uri": "https://localhost:8080/"
        },
        "id": "G_4Ds1rPGLnQ",
        "outputId": "d2b2effc-4327-45a6-c187-559e3638f7f1"
      },
      "execution_count": null,
      "outputs": [
        {
          "output_type": "execute_result",
          "data": {
            "text/plain": [
              "[]"
            ]
          },
          "metadata": {},
          "execution_count": 54
        }
      ]
    },
    {
      "cell_type": "code",
      "source": [],
      "metadata": {
        "id": "qck7oFNBGUal"
      },
      "execution_count": null,
      "outputs": []
    }
  ]
}